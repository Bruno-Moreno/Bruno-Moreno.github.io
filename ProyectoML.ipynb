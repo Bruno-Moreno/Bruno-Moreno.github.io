{
  "nbformat": 4,
  "nbformat_minor": 0,
  "metadata": {
    "colab": {
      "name": "ProyectoML.ipynb",
      "provenance": [],
      "collapsed_sections": [],
      "include_colab_link": true
    },
    "kernelspec": {
      "name": "python3",
      "display_name": "Python 3"
    }
  },
  "cells": [
    {
      "cell_type": "markdown",
      "metadata": {
        "id": "view-in-github",
        "colab_type": "text"
      },
      "source": [
        "<a href=\"https://colab.research.google.com/github/Bruno-Moreno/Bruno-Moreno.github.io/blob/master/ProyectoML.ipynb\" target=\"_parent\"><img src=\"https://colab.research.google.com/assets/colab-badge.svg\" alt=\"Open In Colab\"/></a>"
      ]
    },
    {
      "cell_type": "markdown",
      "metadata": {
        "id": "oIpQ0IgcGCsJ",
        "colab_type": "text"
      },
      "source": [
        "**Hoja de Ruta**\n",
        "1. Cambiar formato a JSON \n",
        "2. Data augmentation!\n",
        "3. Extraer el vector de características, investigar si hay algún otro\n",
        "4. 70-15-15 validation,train,test\n",
        "5. Matraquearlo con DLF y regresión logística \n",
        "6. SVM y redes neuronales \n",
        "7. Métricas de desempeño f1\n",
        "8. Comparar y hacer el informe \n",
        "9. Grabar el video "
      ]
    },
    {
      "cell_type": "markdown",
      "metadata": {
        "id": "piGJMj3YHR1Y",
        "colab_type": "text"
      },
      "source": [
        "**Panorama**\n",
        "\n",
        "1. Sábado 1,2,3\n",
        "2. Domingo 4,5\n",
        "3. Lunes Investigar 6\n",
        "4. Martes 6,7\n"
      ]
    },
    {
      "cell_type": "code",
      "metadata": {
        "id": "TUaX7hlzHppK",
        "colab_type": "code",
        "colab": {}
      },
      "source": [
        "#Pasar las ímagenes a JSON  e importarlas "
      ],
      "execution_count": null,
      "outputs": []
    },
    {
      "cell_type": "code",
      "metadata": {
        "id": "xF8Yg2_lHwym",
        "colab_type": "code",
        "colab": {}
      },
      "source": [
        ""
      ],
      "execution_count": null,
      "outputs": []
    }
  ]
}